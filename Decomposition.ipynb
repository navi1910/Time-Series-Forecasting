{
  "cells": [
    {
      "cell_type": "markdown",
      "metadata": {
        "id": "Po2oHOspqzV9"
      },
      "source": [
        "## Importing Libraries"
      ]
    },
    {
      "cell_type": "code",
      "execution_count": null,
      "metadata": {
        "id": "qClWUr4CqzWG"
      },
      "outputs": [],
      "source": [
        "import pandas as pd\n",
        "import matplotlib.pyplot as plt\n",
        "from statsmodels.tsa.seasonal import seasonal_decompose"
      ]
    },
    {
      "cell_type": "markdown",
      "metadata": {
        "id": "wbF8SWdrqzWJ"
      },
      "source": [
        "## Importing the dataset, parsing the date and making it as the index col"
      ]
    },
    {
      "cell_type": "code",
      "execution_count": null,
      "metadata": {
        "id": "9m81wSg-qzWJ"
      },
      "outputs": [],
      "source": [
        "actual_data = pd.read_csv(\"D:/ISDC Work/Python Codes/NiftyNSEI.csv\", parse_dates = ['Date'], index_col = 'Date')"
      ]
    },
    {
      "cell_type": "code",
      "execution_count": null,
      "metadata": {
        "id": "5GuA9oWGqzWK",
        "outputId": "91a6dbb2-61fa-491a-992a-02cf0202aaa7"
      },
      "outputs": [
        {
          "data": {
            "text/html": [
              "<div>\n",
              "<style scoped>\n",
              "    .dataframe tbody tr th:only-of-type {\n",
              "        vertical-align: middle;\n",
              "    }\n",
              "\n",
              "    .dataframe tbody tr th {\n",
              "        vertical-align: top;\n",
              "    }\n",
              "\n",
              "    .dataframe thead th {\n",
              "        text-align: right;\n",
              "    }\n",
              "</style>\n",
              "<table border=\"1\" class=\"dataframe\">\n",
              "  <thead>\n",
              "    <tr style=\"text-align: right;\">\n",
              "      <th></th>\n",
              "      <th>Open</th>\n",
              "      <th>High</th>\n",
              "      <th>Low</th>\n",
              "      <th>Close</th>\n",
              "      <th>Adj Close</th>\n",
              "      <th>Volume</th>\n",
              "    </tr>\n",
              "    <tr>\n",
              "      <th>Date</th>\n",
              "      <th></th>\n",
              "      <th></th>\n",
              "      <th></th>\n",
              "      <th></th>\n",
              "      <th></th>\n",
              "      <th></th>\n",
              "    </tr>\n",
              "  </thead>\n",
              "  <tbody>\n",
              "    <tr>\n",
              "      <th>2018-11-22</th>\n",
              "      <td>10612.650391</td>\n",
              "      <td>10646.250000</td>\n",
              "      <td>10512.000000</td>\n",
              "      <td>10526.750000</td>\n",
              "      <td>10526.750000</td>\n",
              "      <td>239500.0</td>\n",
              "    </tr>\n",
              "    <tr>\n",
              "      <th>2018-11-26</th>\n",
              "      <td>10568.299805</td>\n",
              "      <td>10637.799805</td>\n",
              "      <td>10489.750000</td>\n",
              "      <td>10628.599609</td>\n",
              "      <td>10628.599609</td>\n",
              "      <td>0.0</td>\n",
              "    </tr>\n",
              "    <tr>\n",
              "      <th>2018-11-27</th>\n",
              "      <td>10621.450195</td>\n",
              "      <td>10695.150391</td>\n",
              "      <td>10596.349609</td>\n",
              "      <td>10685.599609</td>\n",
              "      <td>10685.599609</td>\n",
              "      <td>0.0</td>\n",
              "    </tr>\n",
              "    <tr>\n",
              "      <th>2018-11-28</th>\n",
              "      <td>10708.750000</td>\n",
              "      <td>10757.799805</td>\n",
              "      <td>10699.849609</td>\n",
              "      <td>10728.849609</td>\n",
              "      <td>10728.849609</td>\n",
              "      <td>424500.0</td>\n",
              "    </tr>\n",
              "    <tr>\n",
              "      <th>2018-11-29</th>\n",
              "      <td>10808.700195</td>\n",
              "      <td>10883.049805</td>\n",
              "      <td>10782.349609</td>\n",
              "      <td>10858.700195</td>\n",
              "      <td>10858.700195</td>\n",
              "      <td>691300.0</td>\n",
              "    </tr>\n",
              "  </tbody>\n",
              "</table>\n",
              "</div>"
            ],
            "text/plain": [
              "                    Open          High           Low         Close  \\\n",
              "Date                                                                 \n",
              "2018-11-22  10612.650391  10646.250000  10512.000000  10526.750000   \n",
              "2018-11-26  10568.299805  10637.799805  10489.750000  10628.599609   \n",
              "2018-11-27  10621.450195  10695.150391  10596.349609  10685.599609   \n",
              "2018-11-28  10708.750000  10757.799805  10699.849609  10728.849609   \n",
              "2018-11-29  10808.700195  10883.049805  10782.349609  10858.700195   \n",
              "\n",
              "               Adj Close    Volume  \n",
              "Date                                \n",
              "2018-11-22  10526.750000  239500.0  \n",
              "2018-11-26  10628.599609       0.0  \n",
              "2018-11-27  10685.599609       0.0  \n",
              "2018-11-28  10728.849609  424500.0  \n",
              "2018-11-29  10858.700195  691300.0  "
            ]
          },
          "execution_count": 3,
          "metadata": {},
          "output_type": "execute_result"
        }
      ],
      "source": [
        "actual_data.head()"
      ]
    },
    {
      "cell_type": "markdown",
      "metadata": {
        "id": "EHDncJvCqzWL"
      },
      "source": [
        "## Plotting the close column"
      ]
    },
    {
      "cell_type": "code",
      "execution_count": null,
      "metadata": {
        "scrolled": true,
        "id": "tMZUsGnkqzWM",
        "outputId": "ba781157-da18-4836-aec9-6ce987a73f55"
      },
      "outputs": [
        {
          "data": {
            "text/plain": [
              "<matplotlib.axes._subplots.AxesSubplot at 0x28f9c24e1d0>"
            ]
          },
          "execution_count": 4,
          "metadata": {},
          "output_type": "execute_result"
        },
        {
          "data": {
            "image/png": "[encoded data removed]",
            "text/plain": [
              "<Figure size 432x288 with 1 Axes>"
            ]
          },
          "metadata": {
            "needs_background": "light"
          },
          "output_type": "display_data"
        }
      ],
      "source": [
        "actual_data['Close'].plot()"
      ]
    },
    {
      "cell_type": "markdown",
      "metadata": {
        "id": "5ZKYhcCSqzWM"
      },
      "source": [
        "## Performing missing value imputation \n",
        "### Decomposition cannot be done if there are missing values present in the dataframe"
      ]
    },
    {
      "cell_type": "code",
      "execution_count": null,
      "metadata": {
        "id": "ct7o3VhgqzWN",
        "outputId": "2698ab2a-2ff3-4464-b609-48162e88a34f"
      },
      "outputs": [
        {
          "data": {
            "text/plain": [
              "array([[ 10612.650391,  10646.25    ,  10512.      ,  10526.75    ,\n",
              "         10526.75    , 239500.      ],\n",
              "       [ 10568.299805,  10637.799805,  10489.75    ,  10628.599609,\n",
              "         10628.599609,      0.      ],\n",
              "       [ 10621.450195,  10695.150391,  10596.349609,  10685.599609,\n",
              "         10685.599609,      0.      ],\n",
              "       ...,\n",
              "       [ 12004.75    ,  12038.599609,  11966.049805,  11999.099609,\n",
              "         11999.099609,    600.      ],\n",
              "       [ 12025.650391,  12028.200195,  11956.900391,  11968.400391,\n",
              "         11968.400391,    600.      ],\n",
              "       [ 11967.299805,  11968.099609,  11916.299805,  11940.799805,\n",
              "         11940.799805,      0.      ]])"
            ]
          },
          "execution_count": 5,
          "metadata": {},
          "output_type": "execute_result"
        }
      ],
      "source": [
        "from sklearn.impute import SimpleImputer\n",
        "\n",
        "imp = SimpleImputer(strategy = \"most_frequent\")\n",
        "df = imp.fit_transform(actual_data)\n",
        "df"
      ]
    },
    {
      "cell_type": "markdown",
      "metadata": {
        "id": "Ibdc9yaWqzWO"
      },
      "source": [
        "## Converting the obtained array into a dataframe"
      ]
    },
    {
      "cell_type": "code",
      "execution_count": null,
      "metadata": {
        "id": "vNDRqnzpqzWP",
        "outputId": "cbd322f1-e779-42bd-a307-8b18864a9f99"
      },
      "outputs": [
        {
          "name": "stdout",
          "output_type": "stream",
          "text": [
            "============================================================\n",
            "           Open          High           Low         Close     Adj Close  \\\n",
            "0  10612.650391  10646.250000  10512.000000  10526.750000  10526.750000   \n",
            "1  10568.299805  10637.799805  10489.750000  10628.599609  10628.599609   \n",
            "2  10621.450195  10695.150391  10596.349609  10685.599609  10685.599609   \n",
            "3  10708.750000  10757.799805  10699.849609  10728.849609  10728.849609   \n",
            "4  10808.700195  10883.049805  10782.349609  10858.700195  10858.700195   \n",
            "\n",
            "        Vol  \n",
            "0  239500.0  \n",
            "1       0.0  \n",
            "2       0.0  \n",
            "3  424500.0  \n",
            "4  691300.0  \n",
            "============================================================\n",
            "printing the total null values present in dataframe to check\n",
            "Open         0\n",
            "High         0\n",
            "Low          0\n",
            "Close        0\n",
            "Adj Close    0\n",
            "Vol          0\n",
            "dtype: int64\n",
            "============================================================\n"
          ]
        }
      ],
      "source": [
        "final_df = pd.DataFrame(df, columns = {'Open': df[:, 0], 'High': df[:, 1], 'Low': df[:, 2], \n",
        "                                       'Close': df[:, 3], 'Adj Close': df[:, 4], 'Vol': df[:, 5]})\n",
        "print(\"============================================================\")\n",
        "print(final_df.head())\n",
        "print(\"============================================================\")\n",
        "print(\"printing the total null values present in dataframe to check\")\n",
        "print(final_df.isnull().sum())\n",
        "print(\"============================================================\")"
      ]
    },
    {
      "cell_type": "markdown",
      "metadata": {
        "id": "XN4SAbjTqzWP"
      },
      "source": [
        "## Adding the date column from actual df to imputed df"
      ]
    },
    {
      "cell_type": "code",
      "execution_count": null,
      "metadata": {
        "id": "ipK96C_VqzWQ",
        "outputId": "2957384a-fe10-4dde-a340-162d5ae9589d"
      },
      "outputs": [
        {
          "data": {
            "text/html": [
              "<div>\n",
              "<style scoped>\n",
              "    .dataframe tbody tr th:only-of-type {\n",
              "        vertical-align: middle;\n",
              "    }\n",
              "\n",
              "    .dataframe tbody tr th {\n",
              "        vertical-align: top;\n",
              "    }\n",
              "\n",
              "    .dataframe thead th {\n",
              "        text-align: right;\n",
              "    }\n",
              "</style>\n",
              "<table border=\"1\" class=\"dataframe\">\n",
              "  <thead>\n",
              "    <tr style=\"text-align: right;\">\n",
              "      <th></th>\n",
              "      <th>Open</th>\n",
              "      <th>High</th>\n",
              "      <th>Low</th>\n",
              "      <th>Close</th>\n",
              "      <th>Adj Close</th>\n",
              "      <th>Vol</th>\n",
              "      <th>Date</th>\n",
              "    </tr>\n",
              "  </thead>\n",
              "  <tbody>\n",
              "    <tr>\n",
              "      <th>0</th>\n",
              "      <td>10612.650391</td>\n",
              "      <td>10646.250000</td>\n",
              "      <td>10512.000000</td>\n",
              "      <td>10526.750000</td>\n",
              "      <td>10526.750000</td>\n",
              "      <td>239500.0</td>\n",
              "      <td>2018-11-22</td>\n",
              "    </tr>\n",
              "    <tr>\n",
              "      <th>1</th>\n",
              "      <td>10568.299805</td>\n",
              "      <td>10637.799805</td>\n",
              "      <td>10489.750000</td>\n",
              "      <td>10628.599609</td>\n",
              "      <td>10628.599609</td>\n",
              "      <td>0.0</td>\n",
              "      <td>2018-11-26</td>\n",
              "    </tr>\n",
              "    <tr>\n",
              "      <th>2</th>\n",
              "      <td>10621.450195</td>\n",
              "      <td>10695.150391</td>\n",
              "      <td>10596.349609</td>\n",
              "      <td>10685.599609</td>\n",
              "      <td>10685.599609</td>\n",
              "      <td>0.0</td>\n",
              "      <td>2018-11-27</td>\n",
              "    </tr>\n",
              "    <tr>\n",
              "      <th>3</th>\n",
              "      <td>10708.750000</td>\n",
              "      <td>10757.799805</td>\n",
              "      <td>10699.849609</td>\n",
              "      <td>10728.849609</td>\n",
              "      <td>10728.849609</td>\n",
              "      <td>424500.0</td>\n",
              "      <td>2018-11-28</td>\n",
              "    </tr>\n",
              "    <tr>\n",
              "      <th>4</th>\n",
              "      <td>10808.700195</td>\n",
              "      <td>10883.049805</td>\n",
              "      <td>10782.349609</td>\n",
              "      <td>10858.700195</td>\n",
              "      <td>10858.700195</td>\n",
              "      <td>691300.0</td>\n",
              "      <td>2018-11-29</td>\n",
              "    </tr>\n",
              "  </tbody>\n",
              "</table>\n",
              "</div>"
            ],
            "text/plain": [
              "           Open          High           Low         Close     Adj Close  \\\n",
              "0  10612.650391  10646.250000  10512.000000  10526.750000  10526.750000   \n",
              "1  10568.299805  10637.799805  10489.750000  10628.599609  10628.599609   \n",
              "2  10621.450195  10695.150391  10596.349609  10685.599609  10685.599609   \n",
              "3  10708.750000  10757.799805  10699.849609  10728.849609  10728.849609   \n",
              "4  10808.700195  10883.049805  10782.349609  10858.700195  10858.700195   \n",
              "\n",
              "        Vol       Date  \n",
              "0  239500.0 2018-11-22  \n",
              "1       0.0 2018-11-26  \n",
              "2       0.0 2018-11-27  \n",
              "3  424500.0 2018-11-28  \n",
              "4  691300.0 2018-11-29  "
            ]
          },
          "execution_count": 7,
          "metadata": {},
          "output_type": "execute_result"
        }
      ],
      "source": [
        "final_df['Date'] = pd.DataFrame(actual_data.index)\n",
        "final_df.head()"
      ]
    },
    {
      "cell_type": "markdown",
      "metadata": {
        "id": "xD54ZQuQqzWQ"
      },
      "source": [
        "## Converting the data column to index column"
      ]
    },
    {
      "cell_type": "code",
      "execution_count": null,
      "metadata": {
        "id": "qkm4lSFVqzWQ",
        "outputId": "0f9bd886-925a-48fe-9131-1b9af86d7c00"
      },
      "outputs": [
        {
          "data": {
            "text/html": [
              "<div>\n",
              "<style scoped>\n",
              "    .dataframe tbody tr th:only-of-type {\n",
              "        vertical-align: middle;\n",
              "    }\n",
              "\n",
              "    .dataframe tbody tr th {\n",
              "        vertical-align: top;\n",
              "    }\n",
              "\n",
              "    .dataframe thead th {\n",
              "        text-align: right;\n",
              "    }\n",
              "</style>\n",
              "<table border=\"1\" class=\"dataframe\">\n",
              "  <thead>\n",
              "    <tr style=\"text-align: right;\">\n",
              "      <th></th>\n",
              "      <th>Open</th>\n",
              "      <th>High</th>\n",
              "      <th>Low</th>\n",
              "      <th>Close</th>\n",
              "      <th>Adj Close</th>\n",
              "      <th>Vol</th>\n",
              "    </tr>\n",
              "    <tr>\n",
              "      <th>Date</th>\n",
              "      <th></th>\n",
              "      <th></th>\n",
              "      <th></th>\n",
              "      <th></th>\n",
              "      <th></th>\n",
              "      <th></th>\n",
              "    </tr>\n",
              "  </thead>\n",
              "  <tbody>\n",
              "    <tr>\n",
              "      <th>2018-11-22</th>\n",
              "      <td>10612.650391</td>\n",
              "      <td>10646.250000</td>\n",
              "      <td>10512.000000</td>\n",
              "      <td>10526.750000</td>\n",
              "      <td>10526.750000</td>\n",
              "      <td>239500.0</td>\n",
              "    </tr>\n",
              "    <tr>\n",
              "      <th>2018-11-26</th>\n",
              "      <td>10568.299805</td>\n",
              "      <td>10637.799805</td>\n",
              "      <td>10489.750000</td>\n",
              "      <td>10628.599609</td>\n",
              "      <td>10628.599609</td>\n",
              "      <td>0.0</td>\n",
              "    </tr>\n",
              "    <tr>\n",
              "      <th>2018-11-27</th>\n",
              "      <td>10621.450195</td>\n",
              "      <td>10695.150391</td>\n",
              "      <td>10596.349609</td>\n",
              "      <td>10685.599609</td>\n",
              "      <td>10685.599609</td>\n",
              "      <td>0.0</td>\n",
              "    </tr>\n",
              "    <tr>\n",
              "      <th>2018-11-28</th>\n",
              "      <td>10708.750000</td>\n",
              "      <td>10757.799805</td>\n",
              "      <td>10699.849609</td>\n",
              "      <td>10728.849609</td>\n",
              "      <td>10728.849609</td>\n",
              "      <td>424500.0</td>\n",
              "    </tr>\n",
              "    <tr>\n",
              "      <th>2018-11-29</th>\n",
              "      <td>10808.700195</td>\n",
              "      <td>10883.049805</td>\n",
              "      <td>10782.349609</td>\n",
              "      <td>10858.700195</td>\n",
              "      <td>10858.700195</td>\n",
              "      <td>691300.0</td>\n",
              "    </tr>\n",
              "  </tbody>\n",
              "</table>\n",
              "</div>"
            ],
            "text/plain": [
              "                    Open          High           Low         Close  \\\n",
              "Date                                                                 \n",
              "2018-11-22  10612.650391  10646.250000  10512.000000  10526.750000   \n",
              "2018-11-26  10568.299805  10637.799805  10489.750000  10628.599609   \n",
              "2018-11-27  10621.450195  10695.150391  10596.349609  10685.599609   \n",
              "2018-11-28  10708.750000  10757.799805  10699.849609  10728.849609   \n",
              "2018-11-29  10808.700195  10883.049805  10782.349609  10858.700195   \n",
              "\n",
              "               Adj Close       Vol  \n",
              "Date                                \n",
              "2018-11-22  10526.750000  239500.0  \n",
              "2018-11-26  10628.599609       0.0  \n",
              "2018-11-27  10685.599609       0.0  \n",
              "2018-11-28  10728.849609  424500.0  \n",
              "2018-11-29  10858.700195  691300.0  "
            ]
          },
          "execution_count": 8,
          "metadata": {},
          "output_type": "execute_result"
        }
      ],
      "source": [
        "final_df = final_df.set_index('Date')\n",
        "final_df.head()"
      ]
    },
    {
      "cell_type": "code",
      "execution_count": null,
      "metadata": {
        "id": "rEPiW4EDqzWR",
        "outputId": "fb8ee7fe-290a-4723-9473-f47017312bb4"
      },
      "outputs": [
        {
          "name": "stdout",
          "output_type": "stream",
          "text": [
            "DatetimeIndex(['2018-11-22', '2018-11-26', '2018-11-27', '2018-11-28',\n",
            "               '2018-11-29', '2018-11-30', '2018-12-03', '2018-12-04',\n",
            "               '2018-12-05', '2018-12-06',\n",
            "               ...\n",
            "               '2019-11-08', '2019-11-11', '2019-11-13', '2019-11-14',\n",
            "               '2019-11-15', '2019-11-18', '2019-11-19', '2019-11-20',\n",
            "               '2019-11-21', '2019-11-22'],\n",
            "              dtype='datetime64[ns]', name='Date', length=243, freq=None)\n",
            "Date\n",
            "2018-11-22    10526.750000\n",
            "2018-11-26    10628.599609\n",
            "2018-11-27    10685.599609\n",
            "2018-11-28    10728.849609\n",
            "2018-11-29    10858.700195\n",
            "Name: Close, dtype: float64\n"
          ]
        }
      ],
      "source": [
        "print(final_df.index)\n",
        "close = final_df['Close']\n",
        "print(close.head())"
      ]
    },
    {
      "cell_type": "code",
      "execution_count": null,
      "metadata": {
        "id": "IIuhVl2BqzWR"
      },
      "outputs": [],
      "source": [
        "# period is for the daily (1), weekly (7), or yearly (365) decomposition\n",
        "out_put1 = seasonal_decompose(close, model = \"additive\", period = 1)\n",
        "out_put2 = seasonal_decompose(close, model = \"multiplicative\", period = 1)"
      ]
    },
    {
      "cell_type": "code",
      "execution_count": null,
      "metadata": {
        "id": "rJKgfRM2qzWR",
        "outputId": "44d1bb93-e436-4af0-e77b-0bd63ad90cc4"
      },
      "outputs": [
        {
          "data": {
            "image/png": "[encoded data removed]",
            "text/plain": [
              "<Figure size 432x288 with 4 Axes>"
            ]
          },
          "metadata": {
            "needs_background": "light"
          },
          "output_type": "display_data"
        }
      ],
      "source": [
        "out_put1.plot()\n",
        "plt.show()"
      ]
    },
    {
      "cell_type": "code",
      "execution_count": null,
      "metadata": {
        "id": "oE5i8vBTqzWS",
        "outputId": "f43b5f76-62b7-4891-c1c7-199ebf24455b"
      },
      "outputs": [
        {
          "data": {
            "image/png": "[encoded data removed]",
            "text/plain": [
              "<Figure size 432x288 with 4 Axes>"
            ]
          },
          "metadata": {
            "needs_background": "light"
          },
          "output_type": "display_data"
        }
      ],
      "source": [
        "out_put2.plot()\n",
        "plt.show()"
      ]
    },
    {
      "cell_type": "markdown",
      "metadata": {
        "id": "1cVJl_b0qzWS"
      },
      "source": [
        "## <font color = 'red'> Additive Model: </font>\n",
        "- y(t) = Trend + Seasonality + Cycle + Random Variation\n",
        "- The model is linear where changes over time are made consistently by the same amount\n",
        "- A linear trend is a straight line\n",
        "- A linear seasonality has the same frequency(width of cycles) and amplitude (height of cycles)"
      ]
    },
    {
      "cell_type": "markdown",
      "metadata": {
        "id": "ZT2VsDt2qzWT"
      },
      "source": [
        "## <font color = 'red'> Multiplicative Model: </font> \n",
        "- y(t) = Trend * Seasonality * Cycle * Random Variation\n",
        "- The model is non-linear where changes increase or decrease over time. \n",
        "- A non-linear trend is a curve \n",
        "- A non-linear seasonality has an increasing or decreasing frequency/amplitude over time"
      ]
    },
    {
      "cell_type": "code",
      "execution_count": null,
      "metadata": {
        "id": "QRnUjMxpqzWT"
      },
      "outputs": [],
      "source": []
    }
  ],
  "metadata": {
    "kernelspec": {
      "display_name": "Python 3",
      "language": "python",
      "name": "python3"
    },
    "language_info": {
      "codemirror_mode": {
        "name": "ipython",
        "version": 3
      },
      "file_extension": ".py",
      "mimetype": "text/x-python",
      "name": "python",
      "nbconvert_exporter": "python",
      "pygments_lexer": "ipython3",
      "version": "3.7.3"
    },
    "colab": {
      "provenance": []
    }
  },
  "nbformat": 4,
  "nbformat_minor": 0
}