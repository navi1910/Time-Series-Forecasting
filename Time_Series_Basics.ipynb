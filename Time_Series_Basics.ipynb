{
  "cells": [
    {
      "cell_type": "markdown",
      "metadata": {
        "id": "r1tqAc_Oqu1h"
      },
      "source": [
        "## Simple Time Series "
      ]
    },
    {
      "cell_type": "code",
      "execution_count": null,
      "metadata": {
        "id": "_lAmwU2qqu1l"
      },
      "outputs": [],
      "source": [
        "import pandas as pd"
      ]
    },
    {
      "cell_type": "code",
      "execution_count": null,
      "metadata": {
        "id": "whA83Xtnqu1m"
      },
      "outputs": [],
      "source": [
        "time_series_data = pd.DataFrame({'Year': ['2001', '2002', '2003', '2004', '2005', '2006', '2007'], \n",
        "                                'Number of Passouts': [4000, 4500, 4678, 4983, 5001, 5012, 5829], \n",
        "                                'Students Failed': [1024, 1200, 1530, 982, 2200, 3032, 2032]})"
      ]
    },
    {
      "cell_type": "code",
      "execution_count": null,
      "metadata": {
        "id": "8R8cR32lqu1n"
      },
      "outputs": [],
      "source": [
        "time_series_data"
      ]
    },
    {
      "cell_type": "code",
      "execution_count": null,
      "metadata": {
        "id": "ZKmZsJD3qu1n"
      },
      "outputs": [],
      "source": [
        "import seaborn as sns\n",
        "sns.lineplot(x = 'Year', y = 'Number of Passouts', data = time_series_data)\n",
        "sns.lineplot(x = 'Year', y = 'Students Failed', data = time_series_data)"
      ]
    },
    {
      "cell_type": "markdown",
      "metadata": {
        "id": "3lHSCKsPqu1o"
      },
      "source": [
        "## Using Dataset"
      ]
    },
    {
      "cell_type": "code",
      "execution_count": null,
      "metadata": {
        "id": "SDG_Jrolqu1o"
      },
      "outputs": [],
      "source": [
        "import pandas as pd"
      ]
    },
    {
      "cell_type": "code",
      "execution_count": null,
      "metadata": {
        "id": "hCf4dHI-qu1p"
      },
      "outputs": [],
      "source": [
        "df = pd.read_csv(\"D:/ISDC Work/Python Codes/NiftyNSEI.csv\", parse_dates = ['Date'], index_col = 'Date')"
      ]
    },
    {
      "cell_type": "code",
      "execution_count": null,
      "metadata": {
        "id": "XyVoNEfuqu1q",
        "outputId": "26b6869f-9e6a-43f0-9f52-821712896696"
      },
      "outputs": [
        {
          "data": {
            "text/html": [
              "<div>\n",
              "<style scoped>\n",
              "    .dataframe tbody tr th:only-of-type {\n",
              "        vertical-align: middle;\n",
              "    }\n",
              "\n",
              "    .dataframe tbody tr th {\n",
              "        vertical-align: top;\n",
              "    }\n",
              "\n",
              "    .dataframe thead th {\n",
              "        text-align: right;\n",
              "    }\n",
              "</style>\n",
              "<table border=\"1\" class=\"dataframe\">\n",
              "  <thead>\n",
              "    <tr style=\"text-align: right;\">\n",
              "      <th></th>\n",
              "      <th>Open</th>\n",
              "      <th>High</th>\n",
              "      <th>Low</th>\n",
              "      <th>Close</th>\n",
              "      <th>Adj Close</th>\n",
              "      <th>Volume</th>\n",
              "    </tr>\n",
              "    <tr>\n",
              "      <th>Date</th>\n",
              "      <th></th>\n",
              "      <th></th>\n",
              "      <th></th>\n",
              "      <th></th>\n",
              "      <th></th>\n",
              "      <th></th>\n",
              "    </tr>\n",
              "  </thead>\n",
              "  <tbody>\n",
              "    <tr>\n",
              "      <th>2018-11-22</th>\n",
              "      <td>10612.650391</td>\n",
              "      <td>10646.250000</td>\n",
              "      <td>10512.000000</td>\n",
              "      <td>10526.750000</td>\n",
              "      <td>10526.750000</td>\n",
              "      <td>239500.0</td>\n",
              "    </tr>\n",
              "    <tr>\n",
              "      <th>2018-11-26</th>\n",
              "      <td>10568.299805</td>\n",
              "      <td>10637.799805</td>\n",
              "      <td>10489.750000</td>\n",
              "      <td>10628.599609</td>\n",
              "      <td>10628.599609</td>\n",
              "      <td>0.0</td>\n",
              "    </tr>\n",
              "    <tr>\n",
              "      <th>2018-11-27</th>\n",
              "      <td>10621.450195</td>\n",
              "      <td>10695.150391</td>\n",
              "      <td>10596.349609</td>\n",
              "      <td>10685.599609</td>\n",
              "      <td>10685.599609</td>\n",
              "      <td>0.0</td>\n",
              "    </tr>\n",
              "    <tr>\n",
              "      <th>2018-11-28</th>\n",
              "      <td>10708.750000</td>\n",
              "      <td>10757.799805</td>\n",
              "      <td>10699.849609</td>\n",
              "      <td>10728.849609</td>\n",
              "      <td>10728.849609</td>\n",
              "      <td>424500.0</td>\n",
              "    </tr>\n",
              "    <tr>\n",
              "      <th>2018-11-29</th>\n",
              "      <td>10808.700195</td>\n",
              "      <td>10883.049805</td>\n",
              "      <td>10782.349609</td>\n",
              "      <td>10858.700195</td>\n",
              "      <td>10858.700195</td>\n",
              "      <td>691300.0</td>\n",
              "    </tr>\n",
              "  </tbody>\n",
              "</table>\n",
              "</div>"
            ],
            "text/plain": [
              "                    Open          High           Low         Close  \\\n",
              "Date                                                                 \n",
              "2018-11-22  10612.650391  10646.250000  10512.000000  10526.750000   \n",
              "2018-11-26  10568.299805  10637.799805  10489.750000  10628.599609   \n",
              "2018-11-27  10621.450195  10695.150391  10596.349609  10685.599609   \n",
              "2018-11-28  10708.750000  10757.799805  10699.849609  10728.849609   \n",
              "2018-11-29  10808.700195  10883.049805  10782.349609  10858.700195   \n",
              "\n",
              "               Adj Close    Volume  \n",
              "Date                                \n",
              "2018-11-22  10526.750000  239500.0  \n",
              "2018-11-26  10628.599609       0.0  \n",
              "2018-11-27  10685.599609       0.0  \n",
              "2018-11-28  10728.849609  424500.0  \n",
              "2018-11-29  10858.700195  691300.0  "
            ]
          },
          "execution_count": 3,
          "metadata": {},
          "output_type": "execute_result"
        }
      ],
      "source": [
        "df.head()"
      ]
    },
    {
      "cell_type": "code",
      "execution_count": null,
      "metadata": {
        "id": "Xq7fvICjqu1r",
        "outputId": "62426c5f-e500-4177-98f3-37e0cefc493c"
      },
      "outputs": [
        {
          "data": {
            "text/plain": [
              "Date\n",
              "2018-11-22    10526.750000\n",
              "2018-11-26    10628.599609\n",
              "2018-11-27    10685.599609\n",
              "2018-11-28    10728.849609\n",
              "2018-11-29    10858.700195\n",
              "                  ...     \n",
              "2019-11-18    11884.500000\n",
              "2019-11-19    11940.099609\n",
              "2019-11-20    11999.099609\n",
              "2019-11-21    11968.400391\n",
              "2019-11-22    11940.799805\n",
              "Name: Close, Length: 243, dtype: float64"
            ]
          },
          "execution_count": 4,
          "metadata": {},
          "output_type": "execute_result"
        }
      ],
      "source": [
        "df['Close']"
      ]
    },
    {
      "cell_type": "code",
      "execution_count": null,
      "metadata": {
        "id": "10n9C1_1qu1r",
        "outputId": "d98bba1f-3dcb-4220-a793-c545772f795a"
      },
      "outputs": [
        {
          "data": {
            "text/plain": [
              "DatetimeIndex(['2018-11-22', '2018-11-26', '2018-11-27', '2018-11-28',\n",
              "               '2018-11-29', '2018-11-30', '2018-12-03', '2018-12-04',\n",
              "               '2018-12-05', '2018-12-06',\n",
              "               ...\n",
              "               '2019-11-08', '2019-11-11', '2019-11-13', '2019-11-14',\n",
              "               '2019-11-15', '2019-11-18', '2019-11-19', '2019-11-20',\n",
              "               '2019-11-21', '2019-11-22'],\n",
              "              dtype='datetime64[ns]', name='Date', length=243, freq=None)"
            ]
          },
          "execution_count": 5,
          "metadata": {},
          "output_type": "execute_result"
        }
      ],
      "source": [
        "df.index"
      ]
    },
    {
      "cell_type": "code",
      "execution_count": null,
      "metadata": {
        "id": "CFqXmcY4qu1r",
        "outputId": "5657b27b-beb6-438e-a60f-4668fefb9a19"
      },
      "outputs": [
        {
          "data": {
            "text/html": [
              "<div>\n",
              "<style scoped>\n",
              "    .dataframe tbody tr th:only-of-type {\n",
              "        vertical-align: middle;\n",
              "    }\n",
              "\n",
              "    .dataframe tbody tr th {\n",
              "        vertical-align: top;\n",
              "    }\n",
              "\n",
              "    .dataframe thead th {\n",
              "        text-align: right;\n",
              "    }\n",
              "</style>\n",
              "<table border=\"1\" class=\"dataframe\">\n",
              "  <thead>\n",
              "    <tr style=\"text-align: right;\">\n",
              "      <th></th>\n",
              "      <th>Open</th>\n",
              "      <th>High</th>\n",
              "      <th>Low</th>\n",
              "      <th>Close</th>\n",
              "      <th>Adj Close</th>\n",
              "      <th>Volume</th>\n",
              "    </tr>\n",
              "    <tr>\n",
              "      <th>Date</th>\n",
              "      <th></th>\n",
              "      <th></th>\n",
              "      <th></th>\n",
              "      <th></th>\n",
              "      <th></th>\n",
              "      <th></th>\n",
              "    </tr>\n",
              "  </thead>\n",
              "  <tbody>\n",
              "    <tr>\n",
              "      <th>2018-12-03</th>\n",
              "      <td>10930.700195</td>\n",
              "      <td>10941.200195</td>\n",
              "      <td>10845.349609</td>\n",
              "      <td>10883.750000</td>\n",
              "      <td>10883.750000</td>\n",
              "      <td>409700.0</td>\n",
              "    </tr>\n",
              "    <tr>\n",
              "      <th>2018-12-04</th>\n",
              "      <td>10877.099609</td>\n",
              "      <td>10890.950195</td>\n",
              "      <td>10833.349609</td>\n",
              "      <td>10869.500000</td>\n",
              "      <td>10869.500000</td>\n",
              "      <td>322100.0</td>\n",
              "    </tr>\n",
              "    <tr>\n",
              "      <th>2018-12-05</th>\n",
              "      <td>10820.450195</td>\n",
              "      <td>10821.049805</td>\n",
              "      <td>10747.950195</td>\n",
              "      <td>10782.900391</td>\n",
              "      <td>10782.900391</td>\n",
              "      <td>312300.0</td>\n",
              "    </tr>\n",
              "    <tr>\n",
              "      <th>2018-12-06</th>\n",
              "      <td>10718.150391</td>\n",
              "      <td>10722.650391</td>\n",
              "      <td>10588.250000</td>\n",
              "      <td>10601.150391</td>\n",
              "      <td>10601.150391</td>\n",
              "      <td>318500.0</td>\n",
              "    </tr>\n",
              "    <tr>\n",
              "      <th>2018-12-07</th>\n",
              "      <td>10644.799805</td>\n",
              "      <td>10704.549805</td>\n",
              "      <td>10599.349609</td>\n",
              "      <td>10693.700195</td>\n",
              "      <td>10693.700195</td>\n",
              "      <td>325800.0</td>\n",
              "    </tr>\n",
              "    <tr>\n",
              "      <th>2018-12-10</th>\n",
              "      <td>10508.700195</td>\n",
              "      <td>10558.849609</td>\n",
              "      <td>10474.950195</td>\n",
              "      <td>10488.450195</td>\n",
              "      <td>10488.450195</td>\n",
              "      <td>381300.0</td>\n",
              "    </tr>\n",
              "    <tr>\n",
              "      <th>2018-12-11</th>\n",
              "      <td>10350.049805</td>\n",
              "      <td>10567.150391</td>\n",
              "      <td>10333.849609</td>\n",
              "      <td>10549.150391</td>\n",
              "      <td>10549.150391</td>\n",
              "      <td>425500.0</td>\n",
              "    </tr>\n",
              "    <tr>\n",
              "      <th>2018-12-12</th>\n",
              "      <td>10591.000000</td>\n",
              "      <td>10752.200195</td>\n",
              "      <td>10560.799805</td>\n",
              "      <td>10737.599609</td>\n",
              "      <td>10737.599609</td>\n",
              "      <td>360500.0</td>\n",
              "    </tr>\n",
              "    <tr>\n",
              "      <th>2018-12-13</th>\n",
              "      <td>10810.750000</td>\n",
              "      <td>10838.599609</td>\n",
              "      <td>10749.500000</td>\n",
              "      <td>10791.549805</td>\n",
              "      <td>10791.549805</td>\n",
              "      <td>376200.0</td>\n",
              "    </tr>\n",
              "    <tr>\n",
              "      <th>2018-12-14</th>\n",
              "      <td>10784.500000</td>\n",
              "      <td>10815.750000</td>\n",
              "      <td>10752.099609</td>\n",
              "      <td>10805.450195</td>\n",
              "      <td>10805.450195</td>\n",
              "      <td>340100.0</td>\n",
              "    </tr>\n",
              "    <tr>\n",
              "      <th>2018-12-17</th>\n",
              "      <td>10853.200195</td>\n",
              "      <td>10900.349609</td>\n",
              "      <td>10844.849609</td>\n",
              "      <td>10888.349609</td>\n",
              "      <td>10888.349609</td>\n",
              "      <td>296900.0</td>\n",
              "    </tr>\n",
              "    <tr>\n",
              "      <th>2018-12-18</th>\n",
              "      <td>10850.900391</td>\n",
              "      <td>10915.400391</td>\n",
              "      <td>10819.099609</td>\n",
              "      <td>10908.700195</td>\n",
              "      <td>10908.700195</td>\n",
              "      <td>286100.0</td>\n",
              "    </tr>\n",
              "    <tr>\n",
              "      <th>2018-12-19</th>\n",
              "      <td>10930.549805</td>\n",
              "      <td>10985.150391</td>\n",
              "      <td>10928.000000</td>\n",
              "      <td>10967.299805</td>\n",
              "      <td>10967.299805</td>\n",
              "      <td>312100.0</td>\n",
              "    </tr>\n",
              "    <tr>\n",
              "      <th>2018-12-20</th>\n",
              "      <td>10885.200195</td>\n",
              "      <td>10962.549805</td>\n",
              "      <td>10880.049805</td>\n",
              "      <td>10951.700195</td>\n",
              "      <td>10951.700195</td>\n",
              "      <td>318900.0</td>\n",
              "    </tr>\n",
              "    <tr>\n",
              "      <th>2018-12-21</th>\n",
              "      <td>10944.250000</td>\n",
              "      <td>10963.650391</td>\n",
              "      <td>10738.650391</td>\n",
              "      <td>10754.000000</td>\n",
              "      <td>10754.000000</td>\n",
              "      <td>377500.0</td>\n",
              "    </tr>\n",
              "    <tr>\n",
              "      <th>2018-12-24</th>\n",
              "      <td>10780.900391</td>\n",
              "      <td>10782.299805</td>\n",
              "      <td>10649.250000</td>\n",
              "      <td>10663.500000</td>\n",
              "      <td>10663.500000</td>\n",
              "      <td>223400.0</td>\n",
              "    </tr>\n",
              "    <tr>\n",
              "      <th>2018-12-26</th>\n",
              "      <td>10635.450195</td>\n",
              "      <td>10747.500000</td>\n",
              "      <td>10534.549805</td>\n",
              "      <td>10729.849609</td>\n",
              "      <td>10729.849609</td>\n",
              "      <td>263700.0</td>\n",
              "    </tr>\n",
              "    <tr>\n",
              "      <th>2018-12-27</th>\n",
              "      <td>10817.900391</td>\n",
              "      <td>10834.200195</td>\n",
              "      <td>10764.450195</td>\n",
              "      <td>10779.799805</td>\n",
              "      <td>10779.799805</td>\n",
              "      <td>456100.0</td>\n",
              "    </tr>\n",
              "    <tr>\n",
              "      <th>2018-12-28</th>\n",
              "      <td>10820.950195</td>\n",
              "      <td>10893.599609</td>\n",
              "      <td>10817.150391</td>\n",
              "      <td>10859.900391</td>\n",
              "      <td>10859.900391</td>\n",
              "      <td>245500.0</td>\n",
              "    </tr>\n",
              "    <tr>\n",
              "      <th>2018-12-31</th>\n",
              "      <td>10913.200195</td>\n",
              "      <td>10923.549805</td>\n",
              "      <td>10853.200195</td>\n",
              "      <td>10862.549805</td>\n",
              "      <td>10862.549805</td>\n",
              "      <td>180900.0</td>\n",
              "    </tr>\n",
              "  </tbody>\n",
              "</table>\n",
              "</div>"
            ],
            "text/plain": [
              "                    Open          High           Low         Close  \\\n",
              "Date                                                                 \n",
              "2018-12-03  10930.700195  10941.200195  10845.349609  10883.750000   \n",
              "2018-12-04  10877.099609  10890.950195  10833.349609  10869.500000   \n",
              "2018-12-05  10820.450195  10821.049805  10747.950195  10782.900391   \n",
              "2018-12-06  10718.150391  10722.650391  10588.250000  10601.150391   \n",
              "2018-12-07  10644.799805  10704.549805  10599.349609  10693.700195   \n",
              "2018-12-10  10508.700195  10558.849609  10474.950195  10488.450195   \n",
              "2018-12-11  10350.049805  10567.150391  10333.849609  10549.150391   \n",
              "2018-12-12  10591.000000  10752.200195  10560.799805  10737.599609   \n",
              "2018-12-13  10810.750000  10838.599609  10749.500000  10791.549805   \n",
              "2018-12-14  10784.500000  10815.750000  10752.099609  10805.450195   \n",
              "2018-12-17  10853.200195  10900.349609  10844.849609  10888.349609   \n",
              "2018-12-18  10850.900391  10915.400391  10819.099609  10908.700195   \n",
              "2018-12-19  10930.549805  10985.150391  10928.000000  10967.299805   \n",
              "2018-12-20  10885.200195  10962.549805  10880.049805  10951.700195   \n",
              "2018-12-21  10944.250000  10963.650391  10738.650391  10754.000000   \n",
              "2018-12-24  10780.900391  10782.299805  10649.250000  10663.500000   \n",
              "2018-12-26  10635.450195  10747.500000  10534.549805  10729.849609   \n",
              "2018-12-27  10817.900391  10834.200195  10764.450195  10779.799805   \n",
              "2018-12-28  10820.950195  10893.599609  10817.150391  10859.900391   \n",
              "2018-12-31  10913.200195  10923.549805  10853.200195  10862.549805   \n",
              "\n",
              "               Adj Close    Volume  \n",
              "Date                                \n",
              "2018-12-03  10883.750000  409700.0  \n",
              "2018-12-04  10869.500000  322100.0  \n",
              "2018-12-05  10782.900391  312300.0  \n",
              "2018-12-06  10601.150391  318500.0  \n",
              "2018-12-07  10693.700195  325800.0  \n",
              "2018-12-10  10488.450195  381300.0  \n",
              "2018-12-11  10549.150391  425500.0  \n",
              "2018-12-12  10737.599609  360500.0  \n",
              "2018-12-13  10791.549805  376200.0  \n",
              "2018-12-14  10805.450195  340100.0  \n",
              "2018-12-17  10888.349609  296900.0  \n",
              "2018-12-18  10908.700195  286100.0  \n",
              "2018-12-19  10967.299805  312100.0  \n",
              "2018-12-20  10951.700195  318900.0  \n",
              "2018-12-21  10754.000000  377500.0  \n",
              "2018-12-24  10663.500000  223400.0  \n",
              "2018-12-26  10729.849609  263700.0  \n",
              "2018-12-27  10779.799805  456100.0  \n",
              "2018-12-28  10859.900391  245500.0  \n",
              "2018-12-31  10862.549805  180900.0  "
            ]
          },
          "execution_count": 6,
          "metadata": {},
          "output_type": "execute_result"
        }
      ],
      "source": [
        "df['2018-12']"
      ]
    },
    {
      "cell_type": "code",
      "execution_count": null,
      "metadata": {
        "id": "PWuWzfjVqu1s",
        "outputId": "7a284765-246c-4d96-b4b9-db5f8aa8ce0f"
      },
      "outputs": [
        {
          "data": {
            "text/plain": [
              "Date\n",
              "2018-11-22    10526.750000\n",
              "2018-11-26    10628.599609\n",
              "2018-11-27    10685.599609\n",
              "2018-11-28    10728.849609\n",
              "2018-11-29    10858.700195\n",
              "2018-11-30    10876.750000\n",
              "Name: Close, dtype: float64"
            ]
          },
          "execution_count": 7,
          "metadata": {},
          "output_type": "execute_result"
        }
      ],
      "source": [
        "df['2018-11'].Close"
      ]
    },
    {
      "cell_type": "code",
      "execution_count": null,
      "metadata": {
        "id": "mFu5x_XFqu1s",
        "outputId": "2f776a68-76c8-47e2-f0d5-93a8be4b36e0"
      },
      "outputs": [
        {
          "data": {
            "text/plain": [
              "10717.541503666667"
            ]
          },
          "execution_count": 8,
          "metadata": {},
          "output_type": "execute_result"
        }
      ],
      "source": [
        "df['2018-11'].Close.mean()"
      ]
    },
    {
      "cell_type": "code",
      "execution_count": null,
      "metadata": {
        "id": "cYQ0Tk8Pqu1s",
        "outputId": "9be0434c-37b1-49d2-d564-4fecc6bc2f6d"
      },
      "outputs": [
        {
          "data": {
            "text/plain": [
              "10707.224609"
            ]
          },
          "execution_count": 9,
          "metadata": {},
          "output_type": "execute_result"
        }
      ],
      "source": [
        "df['2018-11'].Close.median()"
      ]
    },
    {
      "cell_type": "code",
      "execution_count": null,
      "metadata": {
        "id": "B6uA_aMRqu1t",
        "outputId": "23d100cc-8670-48ad-c610-26466912615f"
      },
      "outputs": [
        {
          "data": {
            "text/plain": [
              "134.70956745760137"
            ]
          },
          "execution_count": 10,
          "metadata": {},
          "output_type": "execute_result"
        }
      ],
      "source": [
        "df['2018-11'].Close.std()"
      ]
    },
    {
      "cell_type": "code",
      "execution_count": null,
      "metadata": {
        "id": "Ik6iYL-4qu1t",
        "outputId": "1ff26e2f-6d1e-42e4-d9c6-f14e8ae837e5"
      },
      "outputs": [
        {
          "data": {
            "text/plain": [
              "18146.66756461405"
            ]
          },
          "execution_count": 11,
          "metadata": {},
          "output_type": "execute_result"
        }
      ],
      "source": [
        "df['2018-11'].Close.var()"
      ]
    },
    {
      "cell_type": "code",
      "execution_count": null,
      "metadata": {
        "id": "67KtxJe2qu1t",
        "outputId": "8b3173ea-3ed6-445f-c7ad-0a5b4e69d403"
      },
      "outputs": [
        {
          "data": {
            "text/plain": [
              "10526.75"
            ]
          },
          "execution_count": 12,
          "metadata": {},
          "output_type": "execute_result"
        }
      ],
      "source": [
        "df['2018-11'].Close.min()"
      ]
    },
    {
      "cell_type": "code",
      "execution_count": null,
      "metadata": {
        "id": "4So4L0Qpqu1u",
        "outputId": "2c71898b-6e98-4b6b-9f4a-fce7488e2769"
      },
      "outputs": [
        {
          "data": {
            "text/plain": [
              "10876.75"
            ]
          },
          "execution_count": 13,
          "metadata": {},
          "output_type": "execute_result"
        }
      ],
      "source": [
        "df['2018-11'].Close.max()"
      ]
    },
    {
      "cell_type": "code",
      "execution_count": null,
      "metadata": {
        "id": "MuUyEdqsqu1u",
        "outputId": "f2e191ec-c8ea-47a1-b58b-e4dd755a0aab"
      },
      "outputs": [
        {
          "data": {
            "text/plain": [
              "6"
            ]
          },
          "execution_count": 14,
          "metadata": {},
          "output_type": "execute_result"
        }
      ],
      "source": [
        "df['2018-11'].Close.count()"
      ]
    },
    {
      "cell_type": "code",
      "execution_count": null,
      "metadata": {
        "id": "sQWjDPFMqu1v",
        "outputId": "d7fed11a-2721-4178-85e5-101b2ae6055b"
      },
      "outputs": [
        {
          "data": {
            "text/html": [
              "<div>\n",
              "<style scoped>\n",
              "    .dataframe tbody tr th:only-of-type {\n",
              "        vertical-align: middle;\n",
              "    }\n",
              "\n",
              "    .dataframe tbody tr th {\n",
              "        vertical-align: top;\n",
              "    }\n",
              "\n",
              "    .dataframe thead th {\n",
              "        text-align: right;\n",
              "    }\n",
              "</style>\n",
              "<table border=\"1\" class=\"dataframe\">\n",
              "  <thead>\n",
              "    <tr style=\"text-align: right;\">\n",
              "      <th></th>\n",
              "      <th>Open</th>\n",
              "      <th>High</th>\n",
              "      <th>Low</th>\n",
              "      <th>Close</th>\n",
              "      <th>Adj Close</th>\n",
              "      <th>Volume</th>\n",
              "    </tr>\n",
              "    <tr>\n",
              "      <th>Date</th>\n",
              "      <th></th>\n",
              "      <th></th>\n",
              "      <th></th>\n",
              "      <th></th>\n",
              "      <th></th>\n",
              "      <th></th>\n",
              "    </tr>\n",
              "  </thead>\n",
              "  <tbody>\n",
              "    <tr>\n",
              "      <th>2018-11-22</th>\n",
              "      <td>10612.650391</td>\n",
              "      <td>10646.250000</td>\n",
              "      <td>10512.000000</td>\n",
              "      <td>10526.750000</td>\n",
              "      <td>10526.750000</td>\n",
              "      <td>239500.0</td>\n",
              "    </tr>\n",
              "    <tr>\n",
              "      <th>2018-11-26</th>\n",
              "      <td>10568.299805</td>\n",
              "      <td>10637.799805</td>\n",
              "      <td>10489.750000</td>\n",
              "      <td>10628.599609</td>\n",
              "      <td>10628.599609</td>\n",
              "      <td>0.0</td>\n",
              "    </tr>\n",
              "    <tr>\n",
              "      <th>2018-11-27</th>\n",
              "      <td>10621.450195</td>\n",
              "      <td>10695.150391</td>\n",
              "      <td>10596.349609</td>\n",
              "      <td>10685.599609</td>\n",
              "      <td>10685.599609</td>\n",
              "      <td>0.0</td>\n",
              "    </tr>\n",
              "    <tr>\n",
              "      <th>2018-11-28</th>\n",
              "      <td>10708.750000</td>\n",
              "      <td>10757.799805</td>\n",
              "      <td>10699.849609</td>\n",
              "      <td>10728.849609</td>\n",
              "      <td>10728.849609</td>\n",
              "      <td>424500.0</td>\n",
              "    </tr>\n",
              "    <tr>\n",
              "      <th>2018-11-29</th>\n",
              "      <td>10808.700195</td>\n",
              "      <td>10883.049805</td>\n",
              "      <td>10782.349609</td>\n",
              "      <td>10858.700195</td>\n",
              "      <td>10858.700195</td>\n",
              "      <td>691300.0</td>\n",
              "    </tr>\n",
              "    <tr>\n",
              "      <th>2018-11-30</th>\n",
              "      <td>10892.099609</td>\n",
              "      <td>10922.450195</td>\n",
              "      <td>10835.099609</td>\n",
              "      <td>10876.750000</td>\n",
              "      <td>10876.750000</td>\n",
              "      <td>453900.0</td>\n",
              "    </tr>\n",
              "  </tbody>\n",
              "</table>\n",
              "</div>"
            ],
            "text/plain": [
              "                    Open          High           Low         Close  \\\n",
              "Date                                                                 \n",
              "2018-11-22  10612.650391  10646.250000  10512.000000  10526.750000   \n",
              "2018-11-26  10568.299805  10637.799805  10489.750000  10628.599609   \n",
              "2018-11-27  10621.450195  10695.150391  10596.349609  10685.599609   \n",
              "2018-11-28  10708.750000  10757.799805  10699.849609  10728.849609   \n",
              "2018-11-29  10808.700195  10883.049805  10782.349609  10858.700195   \n",
              "2018-11-30  10892.099609  10922.450195  10835.099609  10876.750000   \n",
              "\n",
              "               Adj Close    Volume  \n",
              "Date                                \n",
              "2018-11-22  10526.750000  239500.0  \n",
              "2018-11-26  10628.599609       0.0  \n",
              "2018-11-27  10685.599609       0.0  \n",
              "2018-11-28  10728.849609  424500.0  \n",
              "2018-11-29  10858.700195  691300.0  \n",
              "2018-11-30  10876.750000  453900.0  "
            ]
          },
          "execution_count": 15,
          "metadata": {},
          "output_type": "execute_result"
        }
      ],
      "source": [
        "df['2018-11-22' : '2018-11-30']"
      ]
    },
    {
      "cell_type": "code",
      "execution_count": null,
      "metadata": {
        "id": "t6Rqf1_yqu1v",
        "outputId": "bfd9210c-1ab9-40dc-fea8-4f7999149a5c"
      },
      "outputs": [
        {
          "data": {
            "text/plain": [
              "<matplotlib.axes._subplots.AxesSubplot at 0x1e964454cc0>"
            ]
          },
          "execution_count": 17,
          "metadata": {},
          "output_type": "execute_result"
        },
        {
          "data": {
            "image/png": "[encoded data removed]",
            "text/plain": [
              "<Figure size 432x288 with 1 Axes>"
            ]
          },
          "metadata": {
            "needs_background": "light"
          },
          "output_type": "display_data"
        }
      ],
      "source": [
        "df.Close.plot()"
      ]
    },
    {
      "cell_type": "code",
      "execution_count": null,
      "metadata": {
        "id": "3X58ek9Lqu1v"
      },
      "outputs": [],
      "source": [
        "df['MA_3'] = df.Close.rolling(3).mean()"
      ]
    },
    {
      "cell_type": "code",
      "execution_count": null,
      "metadata": {
        "id": "KiLSXs00qu1w",
        "outputId": "047638cc-922b-4512-e790-9f7d4388a922"
      },
      "outputs": [
        {
          "data": {
            "text/plain": [
              "Date\n",
              "2018-11-22             NaN\n",
              "2018-11-26             NaN\n",
              "2018-11-27    10613.649739\n",
              "2018-11-28    10681.016276\n",
              "2018-11-29    10757.716471\n",
              "                  ...     \n",
              "2019-11-18    11884.016601\n",
              "2019-11-19    11906.683268\n",
              "2019-11-20    11941.233073\n",
              "2019-11-21    11969.199870\n",
              "2019-11-22    11969.433268\n",
              "Name: MA_3, Length: 243, dtype: float64"
            ]
          },
          "execution_count": 19,
          "metadata": {},
          "output_type": "execute_result"
        }
      ],
      "source": [
        "df['MA_3']"
      ]
    },
    {
      "cell_type": "code",
      "execution_count": null,
      "metadata": {
        "id": "n1BtInS4qu1w",
        "outputId": "bf7d69f7-9867-47a3-ad68-e8a18ca0c75c"
      },
      "outputs": [
        {
          "data": {
            "text/plain": [
              "<matplotlib.legend.Legend at 0x1e964660940>"
            ]
          },
          "execution_count": 23,
          "metadata": {},
          "output_type": "execute_result"
        },
        {
          "data": {
            "image/png": "[encoded data removed]",
            "text/plain": [
              "<Figure size 432x288 with 1 Axes>"
            ]
          },
          "metadata": {
            "needs_background": "light"
          },
          "output_type": "display_data"
        }
      ],
      "source": [
        "import matplotlib.pyplot as plt\n",
        "df.Close.plot()\n",
        "df.MA_3.plot()\n",
        "plt.legend(loc = 2)"
      ]
    },
    {
      "cell_type": "code",
      "execution_count": null,
      "metadata": {
        "id": "B2shcL2qqu1w"
      },
      "outputs": [],
      "source": [
        "df['MA_10'] = df.Close.rolling(10). mean()"
      ]
    },
    {
      "cell_type": "code",
      "execution_count": null,
      "metadata": {
        "id": "IHcASxd8qu1w",
        "outputId": "388360bc-f91f-41fe-bcd6-b47ae64e65dd"
      },
      "outputs": [
        {
          "data": {
            "text/plain": [
              "<matplotlib.legend.Legend at 0x1e967526080>"
            ]
          },
          "execution_count": 53,
          "metadata": {},
          "output_type": "execute_result"
        },
        {
          "data": {
            "image/png": "[encoded data removed]",
            "text/plain": [
              "<Figure size 432x288 with 1 Axes>"
            ]
          },
          "metadata": {
            "needs_background": "light"
          },
          "output_type": "display_data"
        }
      ],
      "source": [
        "df.Close.plot(linewidth = 3, color = 'blueviolet')\n",
        "df.MA_3.plot(linewidth = 3, linestyle = 'dashed', color = 'gold')\n",
        "df.MA_10.plot(linewidth = 5, linestyle = 'dotted', color = 'crimson')\n",
        "plt.legend(loc = 2)"
      ]
    },
    {
      "cell_type": "code",
      "execution_count": null,
      "metadata": {
        "id": "arCkIgorqu1w"
      },
      "outputs": [],
      "source": []
    }
  ],
  "metadata": {
    "kernelspec": {
      "display_name": "Python 3",
      "language": "python",
      "name": "python3"
    },
    "language_info": {
      "codemirror_mode": {
        "name": "ipython",
        "version": 3
      },
      "file_extension": ".py",
      "mimetype": "text/x-python",
      "name": "python",
      "nbconvert_exporter": "python",
      "pygments_lexer": "ipython3",
      "version": "3.7.3"
    },
    "colab": {
      "provenance": []
    }
  },
  "nbformat": 4,
  "nbformat_minor": 0
}